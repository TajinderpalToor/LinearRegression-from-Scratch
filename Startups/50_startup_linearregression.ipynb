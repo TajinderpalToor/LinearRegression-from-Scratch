{
  "nbformat": 4,
  "nbformat_minor": 0,
  "metadata": {
    "colab": {
      "name": "50_startup_linearregression.ipynb",
      "provenance": [],
      "collapsed_sections": []
    },
    "kernelspec": {
      "name": "python3",
      "display_name": "Python 3"
    },
    "language_info": {
      "name": "python"
    }
  },
  "cells": [
    {
      "cell_type": "code",
      "execution_count": null,
      "metadata": {
        "id": "5BNFTWjSXrtn"
      },
      "outputs": [],
      "source": [
        "import pandas as pd\n",
        "import numpy as np\n",
        "import matplotlib.pyplot as plt"
      ]
    },
    {
      "cell_type": "code",
      "source": [
        "#print(data.columns)\n",
        "data=pd.read_csv('/content/50_Startups.csv')\n",
        "print(data.head())\n",
        "print(data.shape)"
      ],
      "metadata": {
        "id": "z636IhikX1-B",
        "colab": {
          "base_uri": "https://localhost:8080/"
        },
        "outputId": "cf7c6787-0edf-4b59-83d8-458a640c74e0"
      },
      "execution_count": null,
      "outputs": [
        {
          "output_type": "stream",
          "name": "stdout",
          "text": [
            "   R&D Spend  Administration  Marketing Spend       State     Profit\n",
            "0  165349.20       136897.80        471784.10    New York  192261.83\n",
            "1  162597.70       151377.59        443898.53  California  191792.06\n",
            "2  153441.51       101145.55        407934.54     Florida  191050.39\n",
            "3  144372.41       118671.85        383199.62    New York  182901.99\n",
            "4  142107.34        91391.77        366168.42     Florida  166187.94\n",
            "(50, 5)\n"
          ]
        }
      ]
    },
    {
      "cell_type": "code",
      "source": [
        "y = np.asarray(data['Profit'].values.tolist()) \n",
        "data.drop([\"Profit\"], axis = 1, inplace = True)\n",
        "print(type(y))"
      ],
      "metadata": {
        "colab": {
          "base_uri": "https://localhost:8080/"
        },
        "id": "YJ-I7O-DLMhU",
        "outputId": "80967ac6-11a2-4def-bc22-bb1b9848ed42"
      },
      "execution_count": null,
      "outputs": [
        {
          "output_type": "stream",
          "name": "stdout",
          "text": [
            "<class 'numpy.ndarray'>\n"
          ]
        }
      ]
    },
    {
      "cell_type": "code",
      "source": [
        "#fixing the state collumn using one hut encoding -- from scratch\n",
        "print(data.iloc[:,3].value_counts())\n",
        "data.replace(to_replace=[\"California\",\"New York\",\"Flordia\"], value=[1,2,3])\n",
        "#3=flordia\n",
        "#1=california\n",
        "#2=new york\n",
        "\n",
        "data[\"California\"]=data.iloc[:,3]\n",
        "data[\"New York\"]=data.iloc[:,3]\n",
        "data[\"Flordia\"]=data.iloc[:,3]\n",
        "data.head"
      ],
      "metadata": {
        "colab": {
          "base_uri": "https://localhost:8080/"
        },
        "id": "IA6C9clzzPxY",
        "outputId": "b2f35128-0d64-40de-a724-3501bf4b3ed9"
      },
      "execution_count": null,
      "outputs": [
        {
          "output_type": "stream",
          "name": "stdout",
          "text": [
            "New York      17\n",
            "California    17\n",
            "Florida       16\n",
            "Name: State, dtype: int64\n"
          ]
        },
        {
          "output_type": "execute_result",
          "data": {
            "text/plain": [
              "<bound method NDFrame.head of     R&D Spend  Administration  Marketing Spend       State  California  \\\n",
              "0   165349.20       136897.80        471784.10    New York    New York   \n",
              "1   162597.70       151377.59        443898.53  California  California   \n",
              "2   153441.51       101145.55        407934.54     Florida     Florida   \n",
              "3   144372.41       118671.85        383199.62    New York    New York   \n",
              "4   142107.34        91391.77        366168.42     Florida     Florida   \n",
              "5   131876.90        99814.71        362861.36    New York    New York   \n",
              "6   134615.46       147198.87        127716.82  California  California   \n",
              "7   130298.13       145530.06        323876.68     Florida     Florida   \n",
              "8   120542.52       148718.95        311613.29    New York    New York   \n",
              "9   123334.88       108679.17        304981.62  California  California   \n",
              "10  101913.08       110594.11        229160.95     Florida     Florida   \n",
              "11  100671.96        91790.61        249744.55  California  California   \n",
              "12   93863.75       127320.38        249839.44     Florida     Florida   \n",
              "13   91992.39       135495.07        252664.93  California  California   \n",
              "14  119943.24       156547.42        256512.92     Florida     Florida   \n",
              "15  114523.61       122616.84        261776.23    New York    New York   \n",
              "16   78013.11       121597.55        264346.06  California  California   \n",
              "17   94657.16       145077.58        282574.31    New York    New York   \n",
              "18   91749.16       114175.79        294919.57     Florida     Florida   \n",
              "19   86419.70       153514.11             0.00    New York    New York   \n",
              "20   76253.86       113867.30        298664.47  California  California   \n",
              "21   78389.47       153773.43        299737.29    New York    New York   \n",
              "22   73994.56       122782.75        303319.26     Florida     Florida   \n",
              "23   67532.53       105751.03        304768.73     Florida     Florida   \n",
              "24   77044.01        99281.34        140574.81    New York    New York   \n",
              "25   64664.71       139553.16        137962.62  California  California   \n",
              "26   75328.87       144135.98        134050.07     Florida     Florida   \n",
              "27   72107.60       127864.55        353183.81    New York    New York   \n",
              "28   66051.52       182645.56        118148.20     Florida     Florida   \n",
              "29   65605.48       153032.06        107138.38    New York    New York   \n",
              "30   61994.48       115641.28         91131.24     Florida     Florida   \n",
              "31   61136.38       152701.92         88218.23    New York    New York   \n",
              "32   63408.86       129219.61         46085.25  California  California   \n",
              "33   55493.95       103057.49        214634.81     Florida     Florida   \n",
              "34   46426.07       157693.92        210797.67  California  California   \n",
              "35   46014.02        85047.44        205517.64    New York    New York   \n",
              "36   28663.76       127056.21        201126.82     Florida     Florida   \n",
              "37   44069.95        51283.14        197029.42  California  California   \n",
              "38   20229.59        65947.93        185265.10    New York    New York   \n",
              "39   38558.51        82982.09        174999.30  California  California   \n",
              "40   28754.33       118546.05        172795.67  California  California   \n",
              "41   27892.92        84710.77        164470.71     Florida     Florida   \n",
              "42   23640.93        96189.63        148001.11  California  California   \n",
              "43   15505.73       127382.30         35534.17    New York    New York   \n",
              "44   22177.74       154806.14         28334.72  California  California   \n",
              "45    1000.23       124153.04          1903.93    New York    New York   \n",
              "46    1315.46       115816.21        297114.46     Florida     Florida   \n",
              "47       0.00       135426.92             0.00  California  California   \n",
              "48     542.05        51743.15             0.00    New York    New York   \n",
              "49       0.00       116983.80         45173.06  California  California   \n",
              "\n",
              "      New York     Flordia  \n",
              "0     New York    New York  \n",
              "1   California  California  \n",
              "2      Florida     Florida  \n",
              "3     New York    New York  \n",
              "4      Florida     Florida  \n",
              "5     New York    New York  \n",
              "6   California  California  \n",
              "7      Florida     Florida  \n",
              "8     New York    New York  \n",
              "9   California  California  \n",
              "10     Florida     Florida  \n",
              "11  California  California  \n",
              "12     Florida     Florida  \n",
              "13  California  California  \n",
              "14     Florida     Florida  \n",
              "15    New York    New York  \n",
              "16  California  California  \n",
              "17    New York    New York  \n",
              "18     Florida     Florida  \n",
              "19    New York    New York  \n",
              "20  California  California  \n",
              "21    New York    New York  \n",
              "22     Florida     Florida  \n",
              "23     Florida     Florida  \n",
              "24    New York    New York  \n",
              "25  California  California  \n",
              "26     Florida     Florida  \n",
              "27    New York    New York  \n",
              "28     Florida     Florida  \n",
              "29    New York    New York  \n",
              "30     Florida     Florida  \n",
              "31    New York    New York  \n",
              "32  California  California  \n",
              "33     Florida     Florida  \n",
              "34  California  California  \n",
              "35    New York    New York  \n",
              "36     Florida     Florida  \n",
              "37  California  California  \n",
              "38    New York    New York  \n",
              "39  California  California  \n",
              "40  California  California  \n",
              "41     Florida     Florida  \n",
              "42  California  California  \n",
              "43    New York    New York  \n",
              "44  California  California  \n",
              "45    New York    New York  \n",
              "46     Florida     Florida  \n",
              "47  California  California  \n",
              "48    New York    New York  \n",
              "49  California  California  >"
            ]
          },
          "metadata": {},
          "execution_count": 5
        }
      ]
    },
    {
      "cell_type": "code",
      "source": [
        "data.loc[data[\"California\"]!=\"California\", \"California\"] = 0\n",
        "data.loc[data[\"California\"]==\"California\", \"California\"] = 1"
      ],
      "metadata": {
        "id": "73MREdqCJZFP"
      },
      "execution_count": null,
      "outputs": []
    },
    {
      "cell_type": "code",
      "source": [
        "data.loc[data[\"Flordia\"]!=\"Flordia\", \"Flordia\"] = 0\n",
        "data.loc[data[\"Flordia\"]==\"Flordia\", \"Flordia\"] = 1"
      ],
      "metadata": {
        "id": "GZeP4eOSJYT4"
      },
      "execution_count": null,
      "outputs": []
    },
    {
      "cell_type": "code",
      "source": [
        "data.loc[data[\"New York\"]!=\"New York\", \"New York\"] = 0\n",
        "data.loc[data[\"New York\"]==\"New York\", \"New York\"] = 1"
      ],
      "metadata": {
        "id": "IGj8V6lPJ8qq"
      },
      "execution_count": null,
      "outputs": []
    },
    {
      "cell_type": "code",
      "source": [
        "data.head()"
      ],
      "metadata": {
        "colab": {
          "base_uri": "https://localhost:8080/",
          "height": 206
        },
        "id": "iFMC2qwBKFTW",
        "outputId": "391a48e2-b588-44ef-a31f-29d8a5b49903"
      },
      "execution_count": null,
      "outputs": [
        {
          "output_type": "execute_result",
          "data": {
            "text/plain": [
              "   R&D Spend  Administration  Marketing Spend       State California New York  \\\n",
              "0  165349.20       136897.80        471784.10    New York          0        1   \n",
              "1  162597.70       151377.59        443898.53  California          1        0   \n",
              "2  153441.51       101145.55        407934.54     Florida          0        0   \n",
              "3  144372.41       118671.85        383199.62    New York          0        1   \n",
              "4  142107.34        91391.77        366168.42     Florida          0        0   \n",
              "\n",
              "  Flordia  \n",
              "0       0  \n",
              "1       0  \n",
              "2       0  \n",
              "3       0  \n",
              "4       0  "
            ],
            "text/html": [
              "\n",
              "  <div id=\"df-412d7438-8c87-47cd-b512-73a5fa02e784\">\n",
              "    <div class=\"colab-df-container\">\n",
              "      <div>\n",
              "<style scoped>\n",
              "    .dataframe tbody tr th:only-of-type {\n",
              "        vertical-align: middle;\n",
              "    }\n",
              "\n",
              "    .dataframe tbody tr th {\n",
              "        vertical-align: top;\n",
              "    }\n",
              "\n",
              "    .dataframe thead th {\n",
              "        text-align: right;\n",
              "    }\n",
              "</style>\n",
              "<table border=\"1\" class=\"dataframe\">\n",
              "  <thead>\n",
              "    <tr style=\"text-align: right;\">\n",
              "      <th></th>\n",
              "      <th>R&amp;D Spend</th>\n",
              "      <th>Administration</th>\n",
              "      <th>Marketing Spend</th>\n",
              "      <th>State</th>\n",
              "      <th>California</th>\n",
              "      <th>New York</th>\n",
              "      <th>Flordia</th>\n",
              "    </tr>\n",
              "  </thead>\n",
              "  <tbody>\n",
              "    <tr>\n",
              "      <th>0</th>\n",
              "      <td>165349.20</td>\n",
              "      <td>136897.80</td>\n",
              "      <td>471784.10</td>\n",
              "      <td>New York</td>\n",
              "      <td>0</td>\n",
              "      <td>1</td>\n",
              "      <td>0</td>\n",
              "    </tr>\n",
              "    <tr>\n",
              "      <th>1</th>\n",
              "      <td>162597.70</td>\n",
              "      <td>151377.59</td>\n",
              "      <td>443898.53</td>\n",
              "      <td>California</td>\n",
              "      <td>1</td>\n",
              "      <td>0</td>\n",
              "      <td>0</td>\n",
              "    </tr>\n",
              "    <tr>\n",
              "      <th>2</th>\n",
              "      <td>153441.51</td>\n",
              "      <td>101145.55</td>\n",
              "      <td>407934.54</td>\n",
              "      <td>Florida</td>\n",
              "      <td>0</td>\n",
              "      <td>0</td>\n",
              "      <td>0</td>\n",
              "    </tr>\n",
              "    <tr>\n",
              "      <th>3</th>\n",
              "      <td>144372.41</td>\n",
              "      <td>118671.85</td>\n",
              "      <td>383199.62</td>\n",
              "      <td>New York</td>\n",
              "      <td>0</td>\n",
              "      <td>1</td>\n",
              "      <td>0</td>\n",
              "    </tr>\n",
              "    <tr>\n",
              "      <th>4</th>\n",
              "      <td>142107.34</td>\n",
              "      <td>91391.77</td>\n",
              "      <td>366168.42</td>\n",
              "      <td>Florida</td>\n",
              "      <td>0</td>\n",
              "      <td>0</td>\n",
              "      <td>0</td>\n",
              "    </tr>\n",
              "  </tbody>\n",
              "</table>\n",
              "</div>\n",
              "      <button class=\"colab-df-convert\" onclick=\"convertToInteractive('df-412d7438-8c87-47cd-b512-73a5fa02e784')\"\n",
              "              title=\"Convert this dataframe to an interactive table.\"\n",
              "              style=\"display:none;\">\n",
              "        \n",
              "  <svg xmlns=\"http://www.w3.org/2000/svg\" height=\"24px\"viewBox=\"0 0 24 24\"\n",
              "       width=\"24px\">\n",
              "    <path d=\"M0 0h24v24H0V0z\" fill=\"none\"/>\n",
              "    <path d=\"M18.56 5.44l.94 2.06.94-2.06 2.06-.94-2.06-.94-.94-2.06-.94 2.06-2.06.94zm-11 1L8.5 8.5l.94-2.06 2.06-.94-2.06-.94L8.5 2.5l-.94 2.06-2.06.94zm10 10l.94 2.06.94-2.06 2.06-.94-2.06-.94-.94-2.06-.94 2.06-2.06.94z\"/><path d=\"M17.41 7.96l-1.37-1.37c-.4-.4-.92-.59-1.43-.59-.52 0-1.04.2-1.43.59L10.3 9.45l-7.72 7.72c-.78.78-.78 2.05 0 2.83L4 21.41c.39.39.9.59 1.41.59.51 0 1.02-.2 1.41-.59l7.78-7.78 2.81-2.81c.8-.78.8-2.07 0-2.86zM5.41 20L4 18.59l7.72-7.72 1.47 1.35L5.41 20z\"/>\n",
              "  </svg>\n",
              "      </button>\n",
              "      \n",
              "  <style>\n",
              "    .colab-df-container {\n",
              "      display:flex;\n",
              "      flex-wrap:wrap;\n",
              "      gap: 12px;\n",
              "    }\n",
              "\n",
              "    .colab-df-convert {\n",
              "      background-color: #E8F0FE;\n",
              "      border: none;\n",
              "      border-radius: 50%;\n",
              "      cursor: pointer;\n",
              "      display: none;\n",
              "      fill: #1967D2;\n",
              "      height: 32px;\n",
              "      padding: 0 0 0 0;\n",
              "      width: 32px;\n",
              "    }\n",
              "\n",
              "    .colab-df-convert:hover {\n",
              "      background-color: #E2EBFA;\n",
              "      box-shadow: 0px 1px 2px rgba(60, 64, 67, 0.3), 0px 1px 3px 1px rgba(60, 64, 67, 0.15);\n",
              "      fill: #174EA6;\n",
              "    }\n",
              "\n",
              "    [theme=dark] .colab-df-convert {\n",
              "      background-color: #3B4455;\n",
              "      fill: #D2E3FC;\n",
              "    }\n",
              "\n",
              "    [theme=dark] .colab-df-convert:hover {\n",
              "      background-color: #434B5C;\n",
              "      box-shadow: 0px 1px 3px 1px rgba(0, 0, 0, 0.15);\n",
              "      filter: drop-shadow(0px 1px 2px rgba(0, 0, 0, 0.3));\n",
              "      fill: #FFFFFF;\n",
              "    }\n",
              "  </style>\n",
              "\n",
              "      <script>\n",
              "        const buttonEl =\n",
              "          document.querySelector('#df-412d7438-8c87-47cd-b512-73a5fa02e784 button.colab-df-convert');\n",
              "        buttonEl.style.display =\n",
              "          google.colab.kernel.accessAllowed ? 'block' : 'none';\n",
              "\n",
              "        async function convertToInteractive(key) {\n",
              "          const element = document.querySelector('#df-412d7438-8c87-47cd-b512-73a5fa02e784');\n",
              "          const dataTable =\n",
              "            await google.colab.kernel.invokeFunction('convertToInteractive',\n",
              "                                                     [key], {});\n",
              "          if (!dataTable) return;\n",
              "\n",
              "          const docLinkHtml = 'Like what you see? Visit the ' +\n",
              "            '<a target=\"_blank\" href=https://colab.research.google.com/notebooks/data_table.ipynb>data table notebook</a>'\n",
              "            + ' to learn more about interactive tables.';\n",
              "          element.innerHTML = '';\n",
              "          dataTable['output_type'] = 'display_data';\n",
              "          await google.colab.output.renderOutput(dataTable, element);\n",
              "          const docLink = document.createElement('div');\n",
              "          docLink.innerHTML = docLinkHtml;\n",
              "          element.appendChild(docLink);\n",
              "        }\n",
              "      </script>\n",
              "    </div>\n",
              "  </div>\n",
              "  "
            ]
          },
          "metadata": {},
          "execution_count": 9
        }
      ]
    },
    {
      "cell_type": "code",
      "source": [
        "data.drop([\"State\"], axis = 1, inplace = True)\n",
        "data.head()"
      ],
      "metadata": {
        "colab": {
          "base_uri": "https://localhost:8080/",
          "height": 206
        },
        "id": "d5hKwmrSKNze",
        "outputId": "54c53b77-a779-4c3f-ecbb-b9d201d23d86"
      },
      "execution_count": null,
      "outputs": [
        {
          "output_type": "execute_result",
          "data": {
            "text/plain": [
              "   R&D Spend  Administration  Marketing Spend California New York Flordia\n",
              "0  165349.20       136897.80        471784.10          0        1       0\n",
              "1  162597.70       151377.59        443898.53          1        0       0\n",
              "2  153441.51       101145.55        407934.54          0        0       0\n",
              "3  144372.41       118671.85        383199.62          0        1       0\n",
              "4  142107.34        91391.77        366168.42          0        0       0"
            ],
            "text/html": [
              "\n",
              "  <div id=\"df-248ce608-85b8-4427-a27e-7c5194a1ab5d\">\n",
              "    <div class=\"colab-df-container\">\n",
              "      <div>\n",
              "<style scoped>\n",
              "    .dataframe tbody tr th:only-of-type {\n",
              "        vertical-align: middle;\n",
              "    }\n",
              "\n",
              "    .dataframe tbody tr th {\n",
              "        vertical-align: top;\n",
              "    }\n",
              "\n",
              "    .dataframe thead th {\n",
              "        text-align: right;\n",
              "    }\n",
              "</style>\n",
              "<table border=\"1\" class=\"dataframe\">\n",
              "  <thead>\n",
              "    <tr style=\"text-align: right;\">\n",
              "      <th></th>\n",
              "      <th>R&amp;D Spend</th>\n",
              "      <th>Administration</th>\n",
              "      <th>Marketing Spend</th>\n",
              "      <th>California</th>\n",
              "      <th>New York</th>\n",
              "      <th>Flordia</th>\n",
              "    </tr>\n",
              "  </thead>\n",
              "  <tbody>\n",
              "    <tr>\n",
              "      <th>0</th>\n",
              "      <td>165349.20</td>\n",
              "      <td>136897.80</td>\n",
              "      <td>471784.10</td>\n",
              "      <td>0</td>\n",
              "      <td>1</td>\n",
              "      <td>0</td>\n",
              "    </tr>\n",
              "    <tr>\n",
              "      <th>1</th>\n",
              "      <td>162597.70</td>\n",
              "      <td>151377.59</td>\n",
              "      <td>443898.53</td>\n",
              "      <td>1</td>\n",
              "      <td>0</td>\n",
              "      <td>0</td>\n",
              "    </tr>\n",
              "    <tr>\n",
              "      <th>2</th>\n",
              "      <td>153441.51</td>\n",
              "      <td>101145.55</td>\n",
              "      <td>407934.54</td>\n",
              "      <td>0</td>\n",
              "      <td>0</td>\n",
              "      <td>0</td>\n",
              "    </tr>\n",
              "    <tr>\n",
              "      <th>3</th>\n",
              "      <td>144372.41</td>\n",
              "      <td>118671.85</td>\n",
              "      <td>383199.62</td>\n",
              "      <td>0</td>\n",
              "      <td>1</td>\n",
              "      <td>0</td>\n",
              "    </tr>\n",
              "    <tr>\n",
              "      <th>4</th>\n",
              "      <td>142107.34</td>\n",
              "      <td>91391.77</td>\n",
              "      <td>366168.42</td>\n",
              "      <td>0</td>\n",
              "      <td>0</td>\n",
              "      <td>0</td>\n",
              "    </tr>\n",
              "  </tbody>\n",
              "</table>\n",
              "</div>\n",
              "      <button class=\"colab-df-convert\" onclick=\"convertToInteractive('df-248ce608-85b8-4427-a27e-7c5194a1ab5d')\"\n",
              "              title=\"Convert this dataframe to an interactive table.\"\n",
              "              style=\"display:none;\">\n",
              "        \n",
              "  <svg xmlns=\"http://www.w3.org/2000/svg\" height=\"24px\"viewBox=\"0 0 24 24\"\n",
              "       width=\"24px\">\n",
              "    <path d=\"M0 0h24v24H0V0z\" fill=\"none\"/>\n",
              "    <path d=\"M18.56 5.44l.94 2.06.94-2.06 2.06-.94-2.06-.94-.94-2.06-.94 2.06-2.06.94zm-11 1L8.5 8.5l.94-2.06 2.06-.94-2.06-.94L8.5 2.5l-.94 2.06-2.06.94zm10 10l.94 2.06.94-2.06 2.06-.94-2.06-.94-.94-2.06-.94 2.06-2.06.94z\"/><path d=\"M17.41 7.96l-1.37-1.37c-.4-.4-.92-.59-1.43-.59-.52 0-1.04.2-1.43.59L10.3 9.45l-7.72 7.72c-.78.78-.78 2.05 0 2.83L4 21.41c.39.39.9.59 1.41.59.51 0 1.02-.2 1.41-.59l7.78-7.78 2.81-2.81c.8-.78.8-2.07 0-2.86zM5.41 20L4 18.59l7.72-7.72 1.47 1.35L5.41 20z\"/>\n",
              "  </svg>\n",
              "      </button>\n",
              "      \n",
              "  <style>\n",
              "    .colab-df-container {\n",
              "      display:flex;\n",
              "      flex-wrap:wrap;\n",
              "      gap: 12px;\n",
              "    }\n",
              "\n",
              "    .colab-df-convert {\n",
              "      background-color: #E8F0FE;\n",
              "      border: none;\n",
              "      border-radius: 50%;\n",
              "      cursor: pointer;\n",
              "      display: none;\n",
              "      fill: #1967D2;\n",
              "      height: 32px;\n",
              "      padding: 0 0 0 0;\n",
              "      width: 32px;\n",
              "    }\n",
              "\n",
              "    .colab-df-convert:hover {\n",
              "      background-color: #E2EBFA;\n",
              "      box-shadow: 0px 1px 2px rgba(60, 64, 67, 0.3), 0px 1px 3px 1px rgba(60, 64, 67, 0.15);\n",
              "      fill: #174EA6;\n",
              "    }\n",
              "\n",
              "    [theme=dark] .colab-df-convert {\n",
              "      background-color: #3B4455;\n",
              "      fill: #D2E3FC;\n",
              "    }\n",
              "\n",
              "    [theme=dark] .colab-df-convert:hover {\n",
              "      background-color: #434B5C;\n",
              "      box-shadow: 0px 1px 3px 1px rgba(0, 0, 0, 0.15);\n",
              "      filter: drop-shadow(0px 1px 2px rgba(0, 0, 0, 0.3));\n",
              "      fill: #FFFFFF;\n",
              "    }\n",
              "  </style>\n",
              "\n",
              "      <script>\n",
              "        const buttonEl =\n",
              "          document.querySelector('#df-248ce608-85b8-4427-a27e-7c5194a1ab5d button.colab-df-convert');\n",
              "        buttonEl.style.display =\n",
              "          google.colab.kernel.accessAllowed ? 'block' : 'none';\n",
              "\n",
              "        async function convertToInteractive(key) {\n",
              "          const element = document.querySelector('#df-248ce608-85b8-4427-a27e-7c5194a1ab5d');\n",
              "          const dataTable =\n",
              "            await google.colab.kernel.invokeFunction('convertToInteractive',\n",
              "                                                     [key], {});\n",
              "          if (!dataTable) return;\n",
              "\n",
              "          const docLinkHtml = 'Like what you see? Visit the ' +\n",
              "            '<a target=\"_blank\" href=https://colab.research.google.com/notebooks/data_table.ipynb>data table notebook</a>'\n",
              "            + ' to learn more about interactive tables.';\n",
              "          element.innerHTML = '';\n",
              "          dataTable['output_type'] = 'display_data';\n",
              "          await google.colab.output.renderOutput(dataTable, element);\n",
              "          const docLink = document.createElement('div');\n",
              "          docLink.innerHTML = docLinkHtml;\n",
              "          element.appendChild(docLink);\n",
              "        }\n",
              "      </script>\n",
              "    </div>\n",
              "  </div>\n",
              "  "
            ]
          },
          "metadata": {},
          "execution_count": 10
        }
      ]
    },
    {
      "cell_type": "code",
      "source": [
        "x = np.asarray(data.values.tolist())\n",
        "print(x)\n",
        "print(type(x))"
      ],
      "metadata": {
        "colab": {
          "base_uri": "https://localhost:8080/"
        },
        "id": "buygVjxzMVd0",
        "outputId": "71fed6d0-2033-4ce1-f449-c255a65ffa0a"
      },
      "execution_count": null,
      "outputs": [
        {
          "output_type": "stream",
          "name": "stdout",
          "text": [
            "[[1.6534920e+05 1.3689780e+05 4.7178410e+05 0.0000000e+00 1.0000000e+00\n",
            "  0.0000000e+00]\n",
            " [1.6259770e+05 1.5137759e+05 4.4389853e+05 1.0000000e+00 0.0000000e+00\n",
            "  0.0000000e+00]\n",
            " [1.5344151e+05 1.0114555e+05 4.0793454e+05 0.0000000e+00 0.0000000e+00\n",
            "  0.0000000e+00]\n",
            " [1.4437241e+05 1.1867185e+05 3.8319962e+05 0.0000000e+00 1.0000000e+00\n",
            "  0.0000000e+00]\n",
            " [1.4210734e+05 9.1391770e+04 3.6616842e+05 0.0000000e+00 0.0000000e+00\n",
            "  0.0000000e+00]\n",
            " [1.3187690e+05 9.9814710e+04 3.6286136e+05 0.0000000e+00 1.0000000e+00\n",
            "  0.0000000e+00]\n",
            " [1.3461546e+05 1.4719887e+05 1.2771682e+05 1.0000000e+00 0.0000000e+00\n",
            "  0.0000000e+00]\n",
            " [1.3029813e+05 1.4553006e+05 3.2387668e+05 0.0000000e+00 0.0000000e+00\n",
            "  0.0000000e+00]\n",
            " [1.2054252e+05 1.4871895e+05 3.1161329e+05 0.0000000e+00 1.0000000e+00\n",
            "  0.0000000e+00]\n",
            " [1.2333488e+05 1.0867917e+05 3.0498162e+05 1.0000000e+00 0.0000000e+00\n",
            "  0.0000000e+00]\n",
            " [1.0191308e+05 1.1059411e+05 2.2916095e+05 0.0000000e+00 0.0000000e+00\n",
            "  0.0000000e+00]\n",
            " [1.0067196e+05 9.1790610e+04 2.4974455e+05 1.0000000e+00 0.0000000e+00\n",
            "  0.0000000e+00]\n",
            " [9.3863750e+04 1.2732038e+05 2.4983944e+05 0.0000000e+00 0.0000000e+00\n",
            "  0.0000000e+00]\n",
            " [9.1992390e+04 1.3549507e+05 2.5266493e+05 1.0000000e+00 0.0000000e+00\n",
            "  0.0000000e+00]\n",
            " [1.1994324e+05 1.5654742e+05 2.5651292e+05 0.0000000e+00 0.0000000e+00\n",
            "  0.0000000e+00]\n",
            " [1.1452361e+05 1.2261684e+05 2.6177623e+05 0.0000000e+00 1.0000000e+00\n",
            "  0.0000000e+00]\n",
            " [7.8013110e+04 1.2159755e+05 2.6434606e+05 1.0000000e+00 0.0000000e+00\n",
            "  0.0000000e+00]\n",
            " [9.4657160e+04 1.4507758e+05 2.8257431e+05 0.0000000e+00 1.0000000e+00\n",
            "  0.0000000e+00]\n",
            " [9.1749160e+04 1.1417579e+05 2.9491957e+05 0.0000000e+00 0.0000000e+00\n",
            "  0.0000000e+00]\n",
            " [8.6419700e+04 1.5351411e+05 0.0000000e+00 0.0000000e+00 1.0000000e+00\n",
            "  0.0000000e+00]\n",
            " [7.6253860e+04 1.1386730e+05 2.9866447e+05 1.0000000e+00 0.0000000e+00\n",
            "  0.0000000e+00]\n",
            " [7.8389470e+04 1.5377343e+05 2.9973729e+05 0.0000000e+00 1.0000000e+00\n",
            "  0.0000000e+00]\n",
            " [7.3994560e+04 1.2278275e+05 3.0331926e+05 0.0000000e+00 0.0000000e+00\n",
            "  0.0000000e+00]\n",
            " [6.7532530e+04 1.0575103e+05 3.0476873e+05 0.0000000e+00 0.0000000e+00\n",
            "  0.0000000e+00]\n",
            " [7.7044010e+04 9.9281340e+04 1.4057481e+05 0.0000000e+00 1.0000000e+00\n",
            "  0.0000000e+00]\n",
            " [6.4664710e+04 1.3955316e+05 1.3796262e+05 1.0000000e+00 0.0000000e+00\n",
            "  0.0000000e+00]\n",
            " [7.5328870e+04 1.4413598e+05 1.3405007e+05 0.0000000e+00 0.0000000e+00\n",
            "  0.0000000e+00]\n",
            " [7.2107600e+04 1.2786455e+05 3.5318381e+05 0.0000000e+00 1.0000000e+00\n",
            "  0.0000000e+00]\n",
            " [6.6051520e+04 1.8264556e+05 1.1814820e+05 0.0000000e+00 0.0000000e+00\n",
            "  0.0000000e+00]\n",
            " [6.5605480e+04 1.5303206e+05 1.0713838e+05 0.0000000e+00 1.0000000e+00\n",
            "  0.0000000e+00]\n",
            " [6.1994480e+04 1.1564128e+05 9.1131240e+04 0.0000000e+00 0.0000000e+00\n",
            "  0.0000000e+00]\n",
            " [6.1136380e+04 1.5270192e+05 8.8218230e+04 0.0000000e+00 1.0000000e+00\n",
            "  0.0000000e+00]\n",
            " [6.3408860e+04 1.2921961e+05 4.6085250e+04 1.0000000e+00 0.0000000e+00\n",
            "  0.0000000e+00]\n",
            " [5.5493950e+04 1.0305749e+05 2.1463481e+05 0.0000000e+00 0.0000000e+00\n",
            "  0.0000000e+00]\n",
            " [4.6426070e+04 1.5769392e+05 2.1079767e+05 1.0000000e+00 0.0000000e+00\n",
            "  0.0000000e+00]\n",
            " [4.6014020e+04 8.5047440e+04 2.0551764e+05 0.0000000e+00 1.0000000e+00\n",
            "  0.0000000e+00]\n",
            " [2.8663760e+04 1.2705621e+05 2.0112682e+05 0.0000000e+00 0.0000000e+00\n",
            "  0.0000000e+00]\n",
            " [4.4069950e+04 5.1283140e+04 1.9702942e+05 1.0000000e+00 0.0000000e+00\n",
            "  0.0000000e+00]\n",
            " [2.0229590e+04 6.5947930e+04 1.8526510e+05 0.0000000e+00 1.0000000e+00\n",
            "  0.0000000e+00]\n",
            " [3.8558510e+04 8.2982090e+04 1.7499930e+05 1.0000000e+00 0.0000000e+00\n",
            "  0.0000000e+00]\n",
            " [2.8754330e+04 1.1854605e+05 1.7279567e+05 1.0000000e+00 0.0000000e+00\n",
            "  0.0000000e+00]\n",
            " [2.7892920e+04 8.4710770e+04 1.6447071e+05 0.0000000e+00 0.0000000e+00\n",
            "  0.0000000e+00]\n",
            " [2.3640930e+04 9.6189630e+04 1.4800111e+05 1.0000000e+00 0.0000000e+00\n",
            "  0.0000000e+00]\n",
            " [1.5505730e+04 1.2738230e+05 3.5534170e+04 0.0000000e+00 1.0000000e+00\n",
            "  0.0000000e+00]\n",
            " [2.2177740e+04 1.5480614e+05 2.8334720e+04 1.0000000e+00 0.0000000e+00\n",
            "  0.0000000e+00]\n",
            " [1.0002300e+03 1.2415304e+05 1.9039300e+03 0.0000000e+00 1.0000000e+00\n",
            "  0.0000000e+00]\n",
            " [1.3154600e+03 1.1581621e+05 2.9711446e+05 0.0000000e+00 0.0000000e+00\n",
            "  0.0000000e+00]\n",
            " [0.0000000e+00 1.3542692e+05 0.0000000e+00 1.0000000e+00 0.0000000e+00\n",
            "  0.0000000e+00]\n",
            " [5.4205000e+02 5.1743150e+04 0.0000000e+00 0.0000000e+00 1.0000000e+00\n",
            "  0.0000000e+00]\n",
            " [0.0000000e+00 1.1698380e+05 4.5173060e+04 1.0000000e+00 0.0000000e+00\n",
            "  0.0000000e+00]]\n",
            "<class 'numpy.ndarray'>\n"
          ]
        }
      ]
    },
    {
      "cell_type": "code",
      "source": [
        "#fixing the y dimensions\n",
        "y=y.reshape(len(y),1)\n",
        "y.shape\n",
        "print(type(x))"
      ],
      "metadata": {
        "colab": {
          "base_uri": "https://localhost:8080/"
        },
        "id": "Nv8plg48_5Gq",
        "outputId": "b975f7f6-cc2e-4546-dced-5707ceb896e7"
      },
      "execution_count": null,
      "outputs": [
        {
          "output_type": "stream",
          "name": "stdout",
          "text": [
            "<class 'numpy.ndarray'>\n"
          ]
        }
      ]
    },
    {
      "cell_type": "code",
      "source": [
        "print('The shape of the independent features is ',x.shape)\n",
        "print('The shape of the dependent features is ',y.shape)"
      ],
      "metadata": {
        "colab": {
          "base_uri": "https://localhost:8080/"
        },
        "id": "6GvOSVze_RZo",
        "outputId": "eecaa0fa-9ecb-4f1e-b226-eea23fe807a5"
      },
      "execution_count": null,
      "outputs": [
        {
          "output_type": "stream",
          "name": "stdout",
          "text": [
            "The shape of the independent features is  (50, 6)\n",
            "The shape of the dependent features is  (50, 1)\n"
          ]
        }
      ]
    },
    {
      "cell_type": "code",
      "source": [
        "#Feature Scaling for Independent Variables\n",
        "for i in range(x.shape[1]-2):\n",
        "  x[:,i] = (x[:,i] - int(np.mean(x[:,i])))/np.std(x[:,i])\n"
      ],
      "metadata": {
        "id": "mvIw3IGVRIkr"
      },
      "execution_count": null,
      "outputs": []
    },
    {
      "cell_type": "code",
      "source": [
        "#add a 1 to the front of both features for X_0\n",
        "col=np.ones(x.shape[0])\n",
        "x= np.insert(x,0,col,axis=1)\n",
        "x.shape\n",
        "print(x.shape)"
      ],
      "metadata": {
        "colab": {
          "base_uri": "https://localhost:8080/"
        },
        "id": "iy9dxJBNYShj",
        "outputId": "eddb12e9-a585-45d9-8714-56f1d075615c"
      },
      "execution_count": null,
      "outputs": [
        {
          "output_type": "stream",
          "name": "stdout",
          "text": [
            "(50, 7)\n"
          ]
        }
      ]
    },
    {
      "cell_type": "code",
      "source": [
        "#splitting into a training and test set\n",
        "from sklearn.model_selection import train_test_split\n",
        "x_train,x_test,y_train,y_test= train_test_split(x,y,test_size=0.2,random_state=1)"
      ],
      "metadata": {
        "id": "1BKZyDZxZsRK"
      },
      "execution_count": null,
      "outputs": []
    },
    {
      "cell_type": "code",
      "source": [
        "#hypothesis - theta*x array - theta should be row array(x rows,1) and length is the number of features\n",
        "def h_x(theta,x):\n",
        "  hx=np.dot(x,theta)\n",
        "  return hx "
      ],
      "metadata": {
        "id": "V_IAj5tqJ3sA"
      },
      "execution_count": null,
      "outputs": []
    },
    {
      "cell_type": "code",
      "source": [
        "#cost function - J(theta)\n",
        "def cost_func(x,y,theta):\n",
        "  m=y.shape[0]\n",
        "  h=h_x(theta,x)\n",
        "  j_theta=(1/(2*m))*np.sum(np.square(h-y))\n",
        "  return j_theta"
      ],
      "metadata": {
        "id": "Un1F9Ha0b5t3"
      },
      "execution_count": null,
      "outputs": []
    },
    {
      "cell_type": "code",
      "source": [
        "#gradient descent -- how you update the theta -- going to the gloabal minimum\n",
        "\n",
        "def grad_descent(x,y,theta,learningrate,iterations):\n",
        "  Jtheta=[]\n",
        "  m=y.size\n",
        "  print(m)\n",
        "  for i in range(iterations):\n",
        "    hx= h_x(theta,x)\n",
        "    dtheta=(1/m)*np.dot(x.T,hx-y)\n",
        "    theta=theta-(learningrate*dtheta)\n",
        "    Jtheta.append(cost_func(x,y,theta))\n",
        "  return theta,Jtheta\n",
        "\n",
        "\n",
        "\n"
      ],
      "metadata": {
        "id": "KaCixZ_rKOrk"
      },
      "execution_count": null,
      "outputs": []
    },
    {
      "cell_type": "code",
      "source": [
        "\n",
        "\n",
        "theta = np.zeros((x.shape[1], 1))\n",
        "learningrate=0.001\n",
        "iterations=20000\n",
        "\n",
        "\n",
        "theta,Jtheta=grad_descent(x_train,y_train,theta,learningrate,iterations)\n"
      ],
      "metadata": {
        "id": "a3NszeTkUKIL",
        "colab": {
          "base_uri": "https://localhost:8080/"
        },
        "outputId": "1730eafe-ad0b-4aec-c4ec-b40f333b8dd8"
      },
      "execution_count": null,
      "outputs": [
        {
          "output_type": "stream",
          "name": "stdout",
          "text": [
            "40\n"
          ]
        }
      ]
    },
    {
      "cell_type": "code",
      "source": [
        "\n",
        "\n",
        "\n",
        "theta"
      ],
      "metadata": {
        "colab": {
          "base_uri": "https://localhost:8080/"
        },
        "id": "cF14VUcbtmLx",
        "outputId": "956da4fb-17a9-4021-d193-21daebeccc5f"
      },
      "execution_count": null,
      "outputs": [
        {
          "output_type": "execute_result",
          "data": {
            "text/plain": [
              "array([[109525.97052671],\n",
              "       [ 34201.2855532 ],\n",
              "       [  -121.13681384],\n",
              "       [  4529.74509019],\n",
              "       [  1106.58912813],\n",
              "       [  4782.94869358],\n",
              "       [     0.        ]])"
            ]
          },
          "metadata": {},
          "execution_count": 21
        }
      ]
    },
    {
      "cell_type": "code",
      "source": [
        "\n",
        "rng=np.arange(0,iterations)\n",
        "plt.plot(rng,Jtheta)\n",
        "plt.show()"
      ],
      "metadata": {
        "colab": {
          "base_uri": "https://localhost:8080/",
          "height": 276
        },
        "id": "enuNWi-IXCVk",
        "outputId": "e3ba9eb9-38da-4611-af65-67d4d9a3b00c"
      },
      "execution_count": null,
      "outputs": [
        {
          "output_type": "display_data",
          "data": {
            "text/plain": [
              "<Figure size 432x288 with 1 Axes>"
            ],
            "image/png": "[encoded data removed]"
          },
          "metadata": {
            "needs_background": "light"
          }
        }
      ]
    },
    {
      "cell_type": "code",
      "source": [
        "#print(theta)\n",
        "result=h_x(theta,x_test)\n",
        "#error=(1/x_test.shape[0])*np.sum(np.abs(result-y_test))\n",
        "error=((np.abs(result-y_test))/y_test)*100\n",
        "print(np.average(error))\n",
        "#print(error)"
      ],
      "metadata": {
        "id": "mlFI50lGtrWw",
        "colab": {
          "base_uri": "https://localhost:8080/"
        },
        "outputId": "69000623-9f1d-4d9f-f746-2b792a81d424"
      },
      "execution_count": null,
      "outputs": [
        {
          "output_type": "stream",
          "name": "stdout",
          "text": [
            "10.83427270678667\n"
          ]
        }
      ]
    },
    {
      "cell_type": "code",
      "source": [
        "result"
      ],
      "metadata": {
        "colab": {
          "base_uri": "https://localhost:8080/"
        },
        "id": "H_FYMxrXahlL",
        "outputId": "9d793041-ed3c-4d81-a608-478271f3bb9d"
      },
      "execution_count": null,
      "outputs": [
        {
          "output_type": "execute_result",
          "data": {
            "text/plain": [
              "array([[118385.26172987],\n",
              "       [ 93407.60575062],\n",
              "       [ 76599.43330324],\n",
              "       [ 73326.47969311],\n",
              "       [176983.9042905 ],\n",
              "       [173938.90753289],\n",
              "       [ 51638.55369123],\n",
              "       [104175.22140909],\n",
              "       [ 58275.00290955],\n",
              "       [100105.0426358 ]])"
            ]
          },
          "metadata": {},
          "execution_count": 29
        }
      ]
    },
    {
      "cell_type": "code",
      "source": [
        "y_test"
      ],
      "metadata": {
        "colab": {
          "base_uri": "https://localhost:8080/"
        },
        "id": "eFxHYbxCaw3_",
        "outputId": "3ff86625-7d67-4b66-8b80-1b9a10b03809"
      },
      "execution_count": null,
      "outputs": [
        {
          "output_type": "execute_result",
          "data": {
            "text/plain": [
              "array([[105008.31],\n",
              "       [ 96479.51],\n",
              "       [ 78239.91],\n",
              "       [ 81229.06],\n",
              "       [191050.39],\n",
              "       [182901.99],\n",
              "       [ 35673.41],\n",
              "       [101004.64],\n",
              "       [ 49490.75],\n",
              "       [ 97483.56]])"
            ]
          },
          "metadata": {},
          "execution_count": 30
        }
      ]
    },
    {
      "cell_type": "code",
      "source": [
        "# on average there is a 10% difference betwen the expected result and predicted"
      ],
      "metadata": {
        "id": "XLMPqfb9azIZ"
      },
      "execution_count": null,
      "outputs": []
    }
  ]
}