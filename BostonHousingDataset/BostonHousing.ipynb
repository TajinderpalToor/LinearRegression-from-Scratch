{
  "nbformat": 4,
  "nbformat_minor": 0,
  "metadata": {
    "colab": {
      "name": "BostonHousing.ipynb",
      "provenance": [],
      "collapsed_sections": []
    },
    "kernelspec": {
      "name": "python3",
      "display_name": "Python 3"
    },
    "language_info": {
      "name": "python"
    }
  },
  "cells": [
    {
      "cell_type": "code",
      "execution_count": null,
      "metadata": {
        "id": "Yl8Wz-MuSG1G"
      },
      "outputs": [],
      "source": [
        "#predict Boston dataset housing prices "
      ]
    },
    {
      "cell_type": "code",
      "source": [
        "#import libraries\n",
        "import numpy as np\n",
        "import pandas as pd\n",
        "import matplotlib.pyplot as plt\n"
      ],
      "metadata": {
        "id": "T6eb3IkXVUny"
      },
      "execution_count": null,
      "outputs": []
    },
    {
      "cell_type": "code",
      "source": [
        "#import the dataset\n",
        "dataset=pd.read_csv('/content/Boston.csv')\n",
        "dataset"
      ],
      "metadata": {
        "colab": {
          "base_uri": "https://localhost:8080/",
          "height": 424
        },
        "id": "GQE-MYqSVcrT",
        "outputId": "cb0fbcb1-350a-484b-8397-df5194614a07"
      },
      "execution_count": null,
      "outputs": [
        {
          "output_type": "execute_result",
          "data": {
            "text/plain": [
              "     Unnamed: 0     crim    zn  indus  chas    nox     rm   age     dis  rad  \\\n",
              "0             1  0.00632  18.0   2.31     0  0.538  6.575  65.2  4.0900    1   \n",
              "1             2  0.02731   0.0   7.07     0  0.469  6.421  78.9  4.9671    2   \n",
              "2             3  0.02729   0.0   7.07     0  0.469  7.185  61.1  4.9671    2   \n",
              "3             4  0.03237   0.0   2.18     0  0.458  6.998  45.8  6.0622    3   \n",
              "4             5  0.06905   0.0   2.18     0  0.458  7.147  54.2  6.0622    3   \n",
              "..          ...      ...   ...    ...   ...    ...    ...   ...     ...  ...   \n",
              "501         502  0.06263   0.0  11.93     0  0.573  6.593  69.1  2.4786    1   \n",
              "502         503  0.04527   0.0  11.93     0  0.573  6.120  76.7  2.2875    1   \n",
              "503         504  0.06076   0.0  11.93     0  0.573  6.976  91.0  2.1675    1   \n",
              "504         505  0.10959   0.0  11.93     0  0.573  6.794  89.3  2.3889    1   \n",
              "505         506  0.04741   0.0  11.93     0  0.573  6.030  80.8  2.5050    1   \n",
              "\n",
              "     tax  ptratio   black  lstat  medv  \n",
              "0    296     15.3  396.90   4.98  24.0  \n",
              "1    242     17.8  396.90   9.14  21.6  \n",
              "2    242     17.8  392.83   4.03  34.7  \n",
              "3    222     18.7  394.63   2.94  33.4  \n",
              "4    222     18.7  396.90   5.33  36.2  \n",
              "..   ...      ...     ...    ...   ...  \n",
              "501  273     21.0  391.99   9.67  22.4  \n",
              "502  273     21.0  396.90   9.08  20.6  \n",
              "503  273     21.0  396.90   5.64  23.9  \n",
              "504  273     21.0  393.45   6.48  22.0  \n",
              "505  273     21.0  396.90   7.88  11.9  \n",
              "\n",
              "[506 rows x 15 columns]"
            ],
            "text/html": [
              "\n",
              "  <div id=\"df-d0ebd4fa-5f54-4b71-9343-2df5dd7c8556\">\n",
              "    <div class=\"colab-df-container\">\n",
              "      <div>\n",
              "<style scoped>\n",
              "    .dataframe tbody tr th:only-of-type {\n",
              "        vertical-align: middle;\n",
              "    }\n",
              "\n",
              "    .dataframe tbody tr th {\n",
              "        vertical-align: top;\n",
              "    }\n",
              "\n",
              "    .dataframe thead th {\n",
              "        text-align: right;\n",
              "    }\n",
              "</style>\n",
              "<table border=\"1\" class=\"dataframe\">\n",
              "  <thead>\n",
              "    <tr style=\"text-align: right;\">\n",
              "      <th></th>\n",
              "      <th>Unnamed: 0</th>\n",
              "      <th>crim</th>\n",
              "      <th>zn</th>\n",
              "      <th>indus</th>\n",
              "      <th>chas</th>\n",
              "      <th>nox</th>\n",
              "      <th>rm</th>\n",
              "      <th>age</th>\n",
              "      <th>dis</th>\n",
              "      <th>rad</th>\n",
              "      <th>tax</th>\n",
              "      <th>ptratio</th>\n",
              "      <th>black</th>\n",
              "      <th>lstat</th>\n",
              "      <th>medv</th>\n",
              "    </tr>\n",
              "  </thead>\n",
              "  <tbody>\n",
              "    <tr>\n",
              "      <th>0</th>\n",
              "      <td>1</td>\n",
              "      <td>0.00632</td>\n",
              "      <td>18.0</td>\n",
              "      <td>2.31</td>\n",
              "      <td>0</td>\n",
              "      <td>0.538</td>\n",
              "      <td>6.575</td>\n",
              "      <td>65.2</td>\n",
              "      <td>4.0900</td>\n",
              "      <td>1</td>\n",
              "      <td>296</td>\n",
              "      <td>15.3</td>\n",
              "      <td>396.90</td>\n",
              "      <td>4.98</td>\n",
              "      <td>24.0</td>\n",
              "    </tr>\n",
              "    <tr>\n",
              "      <th>1</th>\n",
              "      <td>2</td>\n",
              "      <td>0.02731</td>\n",
              "      <td>0.0</td>\n",
              "      <td>7.07</td>\n",
              "      <td>0</td>\n",
              "      <td>0.469</td>\n",
              "      <td>6.421</td>\n",
              "      <td>78.9</td>\n",
              "      <td>4.9671</td>\n",
              "      <td>2</td>\n",
              "      <td>242</td>\n",
              "      <td>17.8</td>\n",
              "      <td>396.90</td>\n",
              "      <td>9.14</td>\n",
              "      <td>21.6</td>\n",
              "    </tr>\n",
              "    <tr>\n",
              "      <th>2</th>\n",
              "      <td>3</td>\n",
              "      <td>0.02729</td>\n",
              "      <td>0.0</td>\n",
              "      <td>7.07</td>\n",
              "      <td>0</td>\n",
              "      <td>0.469</td>\n",
              "      <td>7.185</td>\n",
              "      <td>61.1</td>\n",
              "      <td>4.9671</td>\n",
              "      <td>2</td>\n",
              "      <td>242</td>\n",
              "      <td>17.8</td>\n",
              "      <td>392.83</td>\n",
              "      <td>4.03</td>\n",
              "      <td>34.7</td>\n",
              "    </tr>\n",
              "    <tr>\n",
              "      <th>3</th>\n",
              "      <td>4</td>\n",
              "      <td>0.03237</td>\n",
              "      <td>0.0</td>\n",
              "      <td>2.18</td>\n",
              "      <td>0</td>\n",
              "      <td>0.458</td>\n",
              "      <td>6.998</td>\n",
              "      <td>45.8</td>\n",
              "      <td>6.0622</td>\n",
              "      <td>3</td>\n",
              "      <td>222</td>\n",
              "      <td>18.7</td>\n",
              "      <td>394.63</td>\n",
              "      <td>2.94</td>\n",
              "      <td>33.4</td>\n",
              "    </tr>\n",
              "    <tr>\n",
              "      <th>4</th>\n",
              "      <td>5</td>\n",
              "      <td>0.06905</td>\n",
              "      <td>0.0</td>\n",
              "      <td>2.18</td>\n",
              "      <td>0</td>\n",
              "      <td>0.458</td>\n",
              "      <td>7.147</td>\n",
              "      <td>54.2</td>\n",
              "      <td>6.0622</td>\n",
              "      <td>3</td>\n",
              "      <td>222</td>\n",
              "      <td>18.7</td>\n",
              "      <td>396.90</td>\n",
              "      <td>5.33</td>\n",
              "      <td>36.2</td>\n",
              "    </tr>\n",
              "    <tr>\n",
              "      <th>...</th>\n",
              "      <td>...</td>\n",
              "      <td>...</td>\n",
              "      <td>...</td>\n",
              "      <td>...</td>\n",
              "      <td>...</td>\n",
              "      <td>...</td>\n",
              "      <td>...</td>\n",
              "      <td>...</td>\n",
              "      <td>...</td>\n",
              "      <td>...</td>\n",
              "      <td>...</td>\n",
              "      <td>...</td>\n",
              "      <td>...</td>\n",
              "      <td>...</td>\n",
              "      <td>...</td>\n",
              "    </tr>\n",
              "    <tr>\n",
              "      <th>501</th>\n",
              "      <td>502</td>\n",
              "      <td>0.06263</td>\n",
              "      <td>0.0</td>\n",
              "      <td>11.93</td>\n",
              "      <td>0</td>\n",
              "      <td>0.573</td>\n",
              "      <td>6.593</td>\n",
              "      <td>69.1</td>\n",
              "      <td>2.4786</td>\n",
              "      <td>1</td>\n",
              "      <td>273</td>\n",
              "      <td>21.0</td>\n",
              "      <td>391.99</td>\n",
              "      <td>9.67</td>\n",
              "      <td>22.4</td>\n",
              "    </tr>\n",
              "    <tr>\n",
              "      <th>502</th>\n",
              "      <td>503</td>\n",
              "      <td>0.04527</td>\n",
              "      <td>0.0</td>\n",
              "      <td>11.93</td>\n",
              "      <td>0</td>\n",
              "      <td>0.573</td>\n",
              "      <td>6.120</td>\n",
              "      <td>76.7</td>\n",
              "      <td>2.2875</td>\n",
              "      <td>1</td>\n",
              "      <td>273</td>\n",
              "      <td>21.0</td>\n",
              "      <td>396.90</td>\n",
              "      <td>9.08</td>\n",
              "      <td>20.6</td>\n",
              "    </tr>\n",
              "    <tr>\n",
              "      <th>503</th>\n",
              "      <td>504</td>\n",
              "      <td>0.06076</td>\n",
              "      <td>0.0</td>\n",
              "      <td>11.93</td>\n",
              "      <td>0</td>\n",
              "      <td>0.573</td>\n",
              "      <td>6.976</td>\n",
              "      <td>91.0</td>\n",
              "      <td>2.1675</td>\n",
              "      <td>1</td>\n",
              "      <td>273</td>\n",
              "      <td>21.0</td>\n",
              "      <td>396.90</td>\n",
              "      <td>5.64</td>\n",
              "      <td>23.9</td>\n",
              "    </tr>\n",
              "    <tr>\n",
              "      <th>504</th>\n",
              "      <td>505</td>\n",
              "      <td>0.10959</td>\n",
              "      <td>0.0</td>\n",
              "      <td>11.93</td>\n",
              "      <td>0</td>\n",
              "      <td>0.573</td>\n",
              "      <td>6.794</td>\n",
              "      <td>89.3</td>\n",
              "      <td>2.3889</td>\n",
              "      <td>1</td>\n",
              "      <td>273</td>\n",
              "      <td>21.0</td>\n",
              "      <td>393.45</td>\n",
              "      <td>6.48</td>\n",
              "      <td>22.0</td>\n",
              "    </tr>\n",
              "    <tr>\n",
              "      <th>505</th>\n",
              "      <td>506</td>\n",
              "      <td>0.04741</td>\n",
              "      <td>0.0</td>\n",
              "      <td>11.93</td>\n",
              "      <td>0</td>\n",
              "      <td>0.573</td>\n",
              "      <td>6.030</td>\n",
              "      <td>80.8</td>\n",
              "      <td>2.5050</td>\n",
              "      <td>1</td>\n",
              "      <td>273</td>\n",
              "      <td>21.0</td>\n",
              "      <td>396.90</td>\n",
              "      <td>7.88</td>\n",
              "      <td>11.9</td>\n",
              "    </tr>\n",
              "  </tbody>\n",
              "</table>\n",
              "<p>506 rows × 15 columns</p>\n",
              "</div>\n",
              "      <button class=\"colab-df-convert\" onclick=\"convertToInteractive('df-d0ebd4fa-5f54-4b71-9343-2df5dd7c8556')\"\n",
              "              title=\"Convert this dataframe to an interactive table.\"\n",
              "              style=\"display:none;\">\n",
              "        \n",
              "  <svg xmlns=\"http://www.w3.org/2000/svg\" height=\"24px\"viewBox=\"0 0 24 24\"\n",
              "       width=\"24px\">\n",
              "    <path d=\"M0 0h24v24H0V0z\" fill=\"none\"/>\n",
              "    <path d=\"M18.56 5.44l.94 2.06.94-2.06 2.06-.94-2.06-.94-.94-2.06-.94 2.06-2.06.94zm-11 1L8.5 8.5l.94-2.06 2.06-.94-2.06-.94L8.5 2.5l-.94 2.06-2.06.94zm10 10l.94 2.06.94-2.06 2.06-.94-2.06-.94-.94-2.06-.94 2.06-2.06.94z\"/><path d=\"M17.41 7.96l-1.37-1.37c-.4-.4-.92-.59-1.43-.59-.52 0-1.04.2-1.43.59L10.3 9.45l-7.72 7.72c-.78.78-.78 2.05 0 2.83L4 21.41c.39.39.9.59 1.41.59.51 0 1.02-.2 1.41-.59l7.78-7.78 2.81-2.81c.8-.78.8-2.07 0-2.86zM5.41 20L4 18.59l7.72-7.72 1.47 1.35L5.41 20z\"/>\n",
              "  </svg>\n",
              "      </button>\n",
              "      \n",
              "  <style>\n",
              "    .colab-df-container {\n",
              "      display:flex;\n",
              "      flex-wrap:wrap;\n",
              "      gap: 12px;\n",
              "    }\n",
              "\n",
              "    .colab-df-convert {\n",
              "      background-color: #E8F0FE;\n",
              "      border: none;\n",
              "      border-radius: 50%;\n",
              "      cursor: pointer;\n",
              "      display: none;\n",
              "      fill: #1967D2;\n",
              "      height: 32px;\n",
              "      padding: 0 0 0 0;\n",
              "      width: 32px;\n",
              "    }\n",
              "\n",
              "    .colab-df-convert:hover {\n",
              "      background-color: #E2EBFA;\n",
              "      box-shadow: 0px 1px 2px rgba(60, 64, 67, 0.3), 0px 1px 3px 1px rgba(60, 64, 67, 0.15);\n",
              "      fill: #174EA6;\n",
              "    }\n",
              "\n",
              "    [theme=dark] .colab-df-convert {\n",
              "      background-color: #3B4455;\n",
              "      fill: #D2E3FC;\n",
              "    }\n",
              "\n",
              "    [theme=dark] .colab-df-convert:hover {\n",
              "      background-color: #434B5C;\n",
              "      box-shadow: 0px 1px 3px 1px rgba(0, 0, 0, 0.15);\n",
              "      filter: drop-shadow(0px 1px 2px rgba(0, 0, 0, 0.3));\n",
              "      fill: #FFFFFF;\n",
              "    }\n",
              "  </style>\n",
              "\n",
              "      <script>\n",
              "        const buttonEl =\n",
              "          document.querySelector('#df-d0ebd4fa-5f54-4b71-9343-2df5dd7c8556 button.colab-df-convert');\n",
              "        buttonEl.style.display =\n",
              "          google.colab.kernel.accessAllowed ? 'block' : 'none';\n",
              "\n",
              "        async function convertToInteractive(key) {\n",
              "          const element = document.querySelector('#df-d0ebd4fa-5f54-4b71-9343-2df5dd7c8556');\n",
              "          const dataTable =\n",
              "            await google.colab.kernel.invokeFunction('convertToInteractive',\n",
              "                                                     [key], {});\n",
              "          if (!dataTable) return;\n",
              "\n",
              "          const docLinkHtml = 'Like what you see? Visit the ' +\n",
              "            '<a target=\"_blank\" href=https://colab.research.google.com/notebooks/data_table.ipynb>data table notebook</a>'\n",
              "            + ' to learn more about interactive tables.';\n",
              "          element.innerHTML = '';\n",
              "          dataTable['output_type'] = 'display_data';\n",
              "          await google.colab.output.renderOutput(dataTable, element);\n",
              "          const docLink = document.createElement('div');\n",
              "          docLink.innerHTML = docLinkHtml;\n",
              "          element.appendChild(docLink);\n",
              "        }\n",
              "      </script>\n",
              "    </div>\n",
              "  </div>\n",
              "  "
            ]
          },
          "metadata": {},
          "execution_count": 3
        }
      ]
    },
    {
      "cell_type": "code",
      "source": [
        "#check for missing data\n",
        "dataset.info()"
      ],
      "metadata": {
        "id": "VbHY6v1hWX_y",
        "colab": {
          "base_uri": "https://localhost:8080/"
        },
        "outputId": "577a158a-dec6-4551-b341-8cbd40ac78e4"
      },
      "execution_count": null,
      "outputs": [
        {
          "output_type": "stream",
          "name": "stdout",
          "text": [
            "<class 'pandas.core.frame.DataFrame'>\n",
            "RangeIndex: 506 entries, 0 to 505\n",
            "Data columns (total 15 columns):\n",
            " #   Column      Non-Null Count  Dtype  \n",
            "---  ------      --------------  -----  \n",
            " 0   Unnamed: 0  506 non-null    int64  \n",
            " 1   crim        506 non-null    float64\n",
            " 2   zn          506 non-null    float64\n",
            " 3   indus       506 non-null    float64\n",
            " 4   chas        506 non-null    int64  \n",
            " 5   nox         506 non-null    float64\n",
            " 6   rm          506 non-null    float64\n",
            " 7   age         506 non-null    float64\n",
            " 8   dis         506 non-null    float64\n",
            " 9   rad         506 non-null    int64  \n",
            " 10  tax         506 non-null    int64  \n",
            " 11  ptratio     506 non-null    float64\n",
            " 12  black       506 non-null    float64\n",
            " 13  lstat       506 non-null    float64\n",
            " 14  medv        506 non-null    float64\n",
            "dtypes: float64(11), int64(4)\n",
            "memory usage: 59.4 KB\n"
          ]
        }
      ]
    },
    {
      "cell_type": "markdown",
      "source": [
        "-> no missing data\n",
        "->nothing needs to be encoded\n",
        "-> so we can go and split the data"
      ],
      "metadata": {
        "id": "8nlDS4BntJZq"
      }
    },
    {
      "cell_type": "code",
      "source": [
        "# split the data into x,y,training and testing set\n",
        "x=dataset.iloc[:,1:-1].values\n",
        "y=dataset.iloc[:,-1].values\n"
      ],
      "metadata": {
        "id": "myKpMOLdrRej"
      },
      "execution_count": null,
      "outputs": []
    },
    {
      "cell_type": "code",
      "source": [
        "#fixing the y dimensions\n",
        "y=y.reshape(len(y),1)\n",
        "y.shape\n",
        "print(type(x))\n",
        "\n",
        "#Feature Scaling for Independent Variables\n",
        "for i in range(x.shape[1]-2):\n",
        "  x[:,i] = (x[:,i] - int(np.mean(x[:,i])))/np.std(x[:,i])\n",
        "\n"
      ],
      "metadata": {
        "colab": {
          "base_uri": "https://localhost:8080/"
        },
        "id": "AoE7E2lJWLRE",
        "outputId": "04d1453f-73e8-4dd7-a40e-fb828a7388e6"
      },
      "execution_count": null,
      "outputs": [
        {
          "output_type": "stream",
          "name": "stdout",
          "text": [
            "<class 'numpy.ndarray'>\n"
          ]
        }
      ]
    },
    {
      "cell_type": "code",
      "source": [
        "#add a 1 to the front of both features for X_0\n",
        "col=np.ones(x.shape[0])\n",
        "x= np.insert(x,0,col,axis=1)\n",
        "x.shape\n",
        "print(x.shape)\n",
        "#after this x and y are ready for testing, for this example lets just not split the data set and for now just see how it performs "
      ],
      "metadata": {
        "colab": {
          "base_uri": "https://localhost:8080/"
        },
        "id": "a4jF8jhqD23L",
        "outputId": "e6e38f9e-3f1b-4c4e-8fb9-bfe19c4670ad"
      },
      "execution_count": null,
      "outputs": [
        {
          "output_type": "stream",
          "name": "stdout",
          "text": [
            "(506, 14)\n"
          ]
        }
      ]
    },
    {
      "cell_type": "code",
      "source": [
        "#splitting into a training and test set\n",
        "from sklearn.model_selection import train_test_split\n",
        "x_train,x_test,y_train,y_test= train_test_split(x,y,test_size=0.2,random_state=1)"
      ],
      "metadata": {
        "id": "1_v0T4UOe6HF"
      },
      "execution_count": null,
      "outputs": []
    },
    {
      "cell_type": "code",
      "source": [
        "#hypothesis - theta*x array - theta should be row array(x rows,1) and length is the number of features\n",
        "def h_x(theta,x):\n",
        "  hx=np.dot(x,theta)\n",
        "  return hx "
      ],
      "metadata": {
        "id": "XYsXlZGfvGC7"
      },
      "execution_count": null,
      "outputs": []
    },
    {
      "cell_type": "code",
      "source": [
        "#cost function - J(theta)\n",
        "def cost_func(x,y,theta):\n",
        "  m=y.shape[0]\n",
        "  h=h_x(theta,x)\n",
        "  j_theta=(1/(2*m))*np.sum(np.square(h-y))\n",
        "  return j_theta"
      ],
      "metadata": {
        "id": "-yIS4NHgC0vQ"
      },
      "execution_count": null,
      "outputs": []
    },
    {
      "cell_type": "code",
      "source": [
        "#gradient descent -- how you update the theta -- going to the gloabal minimum\n",
        "\n",
        "def grad_descent(x,y,theta,learningrate,iterations):\n",
        "  Jtheta=[]\n",
        "  m=y.size\n",
        "  print(m)\n",
        "  for i in range(iterations):\n",
        "    hx= h_x(theta,x)\n",
        "    dtheta=(1/m)*np.dot(x.T,hx-y)\n",
        "    theta=theta-(learningrate*dtheta)\n",
        "    Jtheta.append(cost_func(x,y,theta))\n",
        "  return theta,Jtheta\n",
        "\n"
      ],
      "metadata": {
        "id": "pEb_UFllC146"
      },
      "execution_count": null,
      "outputs": []
    },
    {
      "cell_type": "code",
      "source": [
        "#testing the linear regression\n",
        "\n",
        "theta = np.zeros((x.shape[1], 1))\n",
        "learningrate=0.000001\n",
        "iterations=1000\n",
        "theta,Jtheta=grad_descent(x_train,y_train,theta,learningrate,iterations)\n"
      ],
      "metadata": {
        "colab": {
          "base_uri": "https://localhost:8080/"
        },
        "id": "WwCLepv2DCOe",
        "outputId": "48921042-6ce5-4145-8c29-2ff49fca54e4"
      },
      "execution_count": null,
      "outputs": [
        {
          "output_type": "stream",
          "name": "stdout",
          "text": [
            "404\n"
          ]
        }
      ]
    },
    {
      "cell_type": "code",
      "source": [
        "#plotting the cost function\n",
        "rng=np.arange(0,iterations)\n",
        "plt.plot(rng,Jtheta)\n",
        "plt.show()"
      ],
      "metadata": {
        "colab": {
          "base_uri": "https://localhost:8080/",
          "height": 265
        },
        "id": "xqKYZcMSDTTE",
        "outputId": "6b8722f0-d6cd-49ae-aa9e-ff4fb0b0ead1"
      },
      "execution_count": null,
      "outputs": [
        {
          "output_type": "display_data",
          "data": {
            "text/plain": [
              "<Figure size 432x288 with 1 Axes>"
            ],
            "image/png": "[encoded data removed]"
          },
          "metadata": {
            "needs_background": "light"
          }
        }
      ]
    },
    {
      "cell_type": "code",
      "source": [
        "#print(theta)\n",
        "result=h_x(theta,x_test)\n",
        "error=(1/x_test.shape[0])*np.sum(np.abs(result-y_test))\n",
        "#error=((np.abs(result-y))/y)*100\n",
        "#print(np.average(error))\n",
        "print(error)"
      ],
      "metadata": {
        "colab": {
          "base_uri": "https://localhost:8080/"
        },
        "id": "TwMTQjtcDZ3g",
        "outputId": "7283d9b8-62dc-4d89-b1fc-0727e179bc51"
      },
      "execution_count": null,
      "outputs": [
        {
          "output_type": "stream",
          "name": "stdout",
          "text": [
            "6.899517906285562\n"
          ]
        }
      ]
    },
    {
      "cell_type": "code",
      "source": [
        "print(result[0:10])"
      ],
      "metadata": {
        "colab": {
          "base_uri": "https://localhost:8080/"
        },
        "id": "2X8gpRrBDlwH",
        "outputId": "e9c3b165-913f-4abf-92b7-1e59d1538691"
      },
      "execution_count": null,
      "outputs": [
        {
          "output_type": "stream",
          "name": "stdout",
          "text": [
            "[[24.39647395]\n",
            " [24.40750668]\n",
            " [23.88408416]\n",
            " [24.33303177]\n",
            " [23.31578085]\n",
            " [23.60969414]\n",
            " [24.46250986]\n",
            " [23.01295807]\n",
            " [24.16476741]\n",
            " [24.07121506]]\n"
          ]
        }
      ]
    },
    {
      "cell_type": "code",
      "source": [
        "print(y_test[0:10])"
      ],
      "metadata": {
        "colab": {
          "base_uri": "https://localhost:8080/"
        },
        "id": "9iAqCNrlERMi",
        "outputId": "910e949a-208f-4b7c-f431-1da517ccd7db"
      },
      "execution_count": null,
      "outputs": [
        {
          "output_type": "stream",
          "name": "stdout",
          "text": [
            "[[28.2]\n",
            " [23.9]\n",
            " [16.6]\n",
            " [22. ]\n",
            " [20.8]\n",
            " [23. ]\n",
            " [27.9]\n",
            " [14.5]\n",
            " [21.5]\n",
            " [22.6]]\n"
          ]
        }
      ]
    },
    {
      "cell_type": "code",
      "source": [
        "#linear regression using sklearn\n",
        "import sklearn\n",
        "from sklearn.linear_model import LinearRegression\n",
        "train_model= LinearRegression().fit(x_train,y_train)\n",
        "y_predict=train_model.predict(x_test)"
      ],
      "metadata": {
        "id": "WW_ie_B0EWHl"
      },
      "execution_count": null,
      "outputs": []
    },
    {
      "cell_type": "code",
      "source": [
        "\n",
        "error=(1/x_test.shape[0])*np.sum(np.abs(y_predict-y_test))\n",
        "#error=((np.abs(y_predict-y))/y)*100\n",
        "#print(np.average(error))\n",
        "print(error)"
      ],
      "metadata": {
        "colab": {
          "base_uri": "https://localhost:8080/"
        },
        "id": "whVWW8JPfSDi",
        "outputId": "340fb35b-a34d-46d9-c129-8c8b797be1b1"
      },
      "execution_count": null,
      "outputs": [
        {
          "output_type": "stream",
          "name": "stdout",
          "text": [
            "3.7507121808389194\n"
          ]
        }
      ]
    },
    {
      "cell_type": "code",
      "source": [
        "print(y_predict[0:10])"
      ],
      "metadata": {
        "id": "iDxoNMWMfTzn",
        "outputId": "9c72d891-d819-4b78-a205-9306989a7e3e",
        "colab": {
          "base_uri": "https://localhost:8080/"
        }
      },
      "execution_count": null,
      "outputs": [
        {
          "output_type": "stream",
          "name": "stdout",
          "text": [
            "[[32.65503184]\n",
            " [28.0934953 ]\n",
            " [18.02901829]\n",
            " [21.47671576]\n",
            " [18.8254387 ]\n",
            " [19.87997758]\n",
            " [32.42014863]\n",
            " [18.06597765]\n",
            " [24.42277848]\n",
            " [27.00977832]]\n"
          ]
        }
      ]
    },
    {
      "cell_type": "code",
      "source": [],
      "metadata": {
        "id": "2xrCfPFZfXs0"
      },
      "execution_count": null,
      "outputs": []
    }
  ]
}